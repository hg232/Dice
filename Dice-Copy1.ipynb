{
 "cells": [
  {
   "cell_type": "code",
   "execution_count": 3,
   "metadata": {},
   "outputs": [],
   "source": [
    "import random\n",
    "c = [1, 2, 3, 4, 5, 6] \n",
    "count = 0\n",
    "\n",
    "        "
   ]
  },
  {
   "cell_type": "code",
   "execution_count": 5,
   "metadata": {},
   "outputs": [
    {
     "name": "stdout",
     "output_type": "stream",
     "text": [
      "Bye: 2 3 = 5\n"
     ]
    }
   ],
   "source": [
    "while count < 3: \n",
    "    Dice1 = random.choice(c)\n",
    "    Dice2 = random.choice(c)\n",
    "    Sum = Dice1 + Dice2\n",
    "    max = 3\n",
    "    if Dice1 == Dice2:\n",
    "        count += 1\n",
    "        count2 = max - count\n",
    "        print(f\"When you hit three, you have no more tries. Here is how many tries you have left {count2}\")\n",
    "        \n",
    "        print(f\" {Dice1} {Dice2} = {Sum} That's a match. Go to JAIL if you do this three times\")\n",
    "        if count > 2:\n",
    "            print(\"You get to go to jail now\")\n",
    "    else: \n",
    "        print(f\"Bye: {Dice1} {Dice2} = {Sum}\")\n",
    "        break\n",
    "    "
   ]
  },
  {
   "cell_type": "code",
   "execution_count": null,
   "metadata": {},
   "outputs": [],
   "source": []
  },
  {
   "cell_type": "code",
   "execution_count": null,
   "metadata": {},
   "outputs": [],
   "source": []
  }
 ],
 "metadata": {
  "kernelspec": {
   "display_name": "Python 3",
   "language": "python",
   "name": "python3"
  },
  "language_info": {
   "codemirror_mode": {
    "name": "ipython",
    "version": 3
   },
   "file_extension": ".py",
   "mimetype": "text/x-python",
   "name": "python",
   "nbconvert_exporter": "python",
   "pygments_lexer": "ipython3",
   "version": "3.7.6"
  }
 },
 "nbformat": 4,
 "nbformat_minor": 4
}
